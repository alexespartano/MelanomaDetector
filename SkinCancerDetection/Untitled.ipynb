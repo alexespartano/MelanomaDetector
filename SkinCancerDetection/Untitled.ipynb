{
 "cells": [
  {
   "cell_type": "code",
   "execution_count": 2,
   "id": "7c1ad7d3",
   "metadata": {},
   "outputs": [
    {
     "ename": "ModuleNotFoundError",
     "evalue": "No module named 'sklearn'",
     "output_type": "error",
     "traceback": [
      "\u001b[1;31m---------------------------------------------------------------------------\u001b[0m",
      "\u001b[1;31mModuleNotFoundError\u001b[0m                       Traceback (most recent call last)",
      "\u001b[1;32m~\\AppData\\Local\\Temp/ipykernel_11880/3095801232.py\u001b[0m in \u001b[0;36m<module>\u001b[1;34m\u001b[0m\n\u001b[0;32m      6\u001b[0m \u001b[1;32mfrom\u001b[0m \u001b[0mglob\u001b[0m \u001b[1;32mimport\u001b[0m \u001b[0mglob\u001b[0m\u001b[1;33m\u001b[0m\u001b[1;33m\u001b[0m\u001b[0m\n\u001b[0;32m      7\u001b[0m \u001b[1;32mfrom\u001b[0m \u001b[0mPIL\u001b[0m \u001b[1;32mimport\u001b[0m \u001b[0mImage\u001b[0m\u001b[1;33m\u001b[0m\u001b[1;33m\u001b[0m\u001b[0m\n\u001b[1;32m----> 8\u001b[1;33m \u001b[1;32mfrom\u001b[0m \u001b[0msklearn\u001b[0m\u001b[1;33m.\u001b[0m\u001b[0mmodel_selection\u001b[0m \u001b[1;32mimport\u001b[0m \u001b[0mtrain_test_split\u001b[0m\u001b[1;33m\u001b[0m\u001b[1;33m\u001b[0m\u001b[0m\n\u001b[0m\u001b[0;32m      9\u001b[0m \u001b[1;33m\u001b[0m\u001b[0m\n\u001b[0;32m     10\u001b[0m \u001b[1;32mimport\u001b[0m \u001b[0mtensorflow\u001b[0m \u001b[1;32mas\u001b[0m \u001b[0mtf\u001b[0m\u001b[1;33m\u001b[0m\u001b[1;33m\u001b[0m\u001b[0m\n",
      "\u001b[1;31mModuleNotFoundError\u001b[0m: No module named 'sklearn'"
     ]
    }
   ],
   "source": [
    "import numpy as np\n",
    "import pandas as pd\n",
    "import seaborn as sb\n",
    "import matplotlib.pyplot as plt\n",
    "\n",
    "from glob import glob\n",
    "from PIL import Image\n",
    "from sklearn.model_selection import train_test_split\n",
    "\n",
    "import tensorflow as tf\n",
    "from tensorflow import keras\n",
    "from keras import layers\n",
    "from functools import partial\n",
    "\n",
    "AUTO = tf.data.experimental.AUTOTUNE\n",
    "import warnings\n",
    "warnings.filterwarnings('ignore')"
   ]
  },
  {
   "cell_type": "code",
   "execution_count": null,
   "id": "0e717ba3",
   "metadata": {},
   "outputs": [],
   "source": [
    "images = glob('train_cancer/*/*.jpg')\n",
    "len(images)"
   ]
  },
  {
   "cell_type": "code",
   "execution_count": null,
   "id": "1ad55327",
   "metadata": {},
   "outputs": [],
   "source": [
    "#replace backslash with forward slash to avoid unexpected errors\n",
    "images = [path.replace('\\\\', '/') for path in images]\n",
    "df = pd.DataFrame({'filepath': images})\n",
    "df['label'] = df['filepath'].str.split('/', expand=True)[1]\n",
    "df.head()"
   ]
  },
  {
   "cell_type": "code",
   "execution_count": null,
   "id": "5407455e",
   "metadata": {},
   "outputs": [],
   "source": [
    "df['label_bin'] = np.where(df['label'].values == 'malignant', 1, 0)\n",
    "df.head()"
   ]
  },
  {
   "cell_type": "code",
   "execution_count": null,
   "id": "cb79d629",
   "metadata": {},
   "outputs": [],
   "source": [
    "x = df['label'].value_counts()\n",
    "plt.pie(x.values,\n",
    "\t\tlabels=x.index,\n",
    "\t\tautopct='%1.1f%%')\n",
    "plt.show()"
   ]
  },
  {
   "cell_type": "code",
   "execution_count": null,
   "id": "a4a16fdb",
   "metadata": {},
   "outputs": [],
   "source": [
    "for cat in df['label'].unique():\n",
    "\ttemp = df[df['label'] == cat]\n",
    "\n",
    "\tindex_list = temp.index\n",
    "\tfig, ax = plt.subplots(1, 4, figsize=(15, 5))\n",
    "\tfig.suptitle(f'Images for {cat} category . . . .', fontsize=20)\n",
    "\tfor i in range(4):\n",
    "\t\tindex = np.random.randint(0, len(index_list))\n",
    "\t\tindex = index_list[index]\n",
    "\t\tdata = df.iloc[index]\n",
    "\n",
    "\t\timage_path = data[0]\n",
    "\n",
    "\t\timg = np.array(Image.open(image_path))\n",
    "\t\tax[i].imshow(img)\n",
    "plt.tight_layout()\n",
    "plt.show()"
   ]
  },
  {
   "cell_type": "code",
   "execution_count": null,
   "id": "7da73c57",
   "metadata": {},
   "outputs": [],
   "source": [
    "features = df['filepath']\n",
    "target = df['label_bin']\n",
    "\n",
    "X_train, X_val,\tY_train, Y_val = train_test_split(features, target,\n",
    "\t\t\t\t\t\t\t\t\ttest_size=0.15,\n",
    "\t\t\t\t\t\t\t\t\trandom_state=10)\n",
    "\n",
    "X_train.shape, X_val.shape"
   ]
  },
  {
   "cell_type": "code",
   "execution_count": null,
   "id": "4f36cb36",
   "metadata": {},
   "outputs": [],
   "source": [
    "def decode_image(filepath, label=None):\n",
    "\n",
    "\timg = tf.io.read_file(filepath)\n",
    "\timg = tf.image.decode_jpeg(img)\n",
    "\timg = tf.image.resize(img, [224, 224])\n",
    "\timg = tf.cast(img, tf.float32) / 255.0\n",
    "\n",
    "\tif label == 0:\n",
    "\t\tLabel = 0\n",
    "\telse:\n",
    "\t\tLabel = 1\n",
    "\n",
    "\treturn img, Label"
   ]
  },
  {
   "cell_type": "code",
   "execution_count": null,
   "id": "b94daf74",
   "metadata": {},
   "outputs": [],
   "source": [
    "train_ds = (\n",
    "\ttf.data.Dataset\n",
    "\t.from_tensor_slices((X_train, Y_train))\n",
    "\t.map(decode_image, num_parallel_calls=AUTO)\n",
    "\t.batch(32)\n",
    "\t.prefetch(AUTO)\n",
    ")\n",
    "\n",
    "val_ds = (\n",
    "\ttf.data.Dataset\n",
    "\t.from_tensor_slices((X_val, Y_val))\n",
    "\t.map(decode_image, num_parallel_calls=AUTO)\n",
    "\t.batch(32)\n",
    "\t.prefetch(AUTO)\n",
    ")"
   ]
  },
  {
   "cell_type": "code",
   "execution_count": null,
   "id": "7248cf11",
   "metadata": {},
   "outputs": [],
   "source": [
    "from tensorflow.keras.applications.efficientnet import EfficientNetB7\n",
    "\n",
    "pre_trained_model = EfficientNetB7(\n",
    "\tinput_shape=(224, 224, 3),\n",
    "\tweights='imagenet',\n",
    "\tinclude_top=False\n",
    ")\n",
    "\n",
    "for layer in pre_trained_model.layers:\n",
    "\tlayer.trainable = False"
   ]
  },
  {
   "cell_type": "code",
   "execution_count": null,
   "id": "498288ef",
   "metadata": {},
   "outputs": [],
   "source": [
    "from tensorflow.keras import Model\n",
    "\n",
    "inputs = layers.Input(shape=(224, 224, 3))\n",
    "x = layers.Flatten()(inputs)\n",
    "\n",
    "x = layers.Dense(256, activation='relu')(x)\n",
    "x = layers.BatchNormalization()(x)\n",
    "x = layers.Dense(256, activation='relu')(x)\n",
    "x = layers.Dropout(0.3)(x)\n",
    "x = layers.BatchNormalization()(x)\n",
    "outputs = layers.Dense(1, activation='sigmoid')(x)\n",
    "\n",
    "model = Model(inputs, outputs)"
   ]
  },
  {
   "cell_type": "code",
   "execution_count": null,
   "id": "015123a6",
   "metadata": {},
   "outputs": [],
   "source": [
    "model.compile(\n",
    "\tloss=tf.keras.losses.BinaryCrossentropy(from_logits=True),\n",
    "\toptimizer='adam',\n",
    "\tmetrics=['AUC']\n",
    ")"
   ]
  },
  {
   "cell_type": "code",
   "execution_count": null,
   "id": "7e57cc2e",
   "metadata": {},
   "outputs": [],
   "source": [
    "history = model.fit(train_ds,\n",
    "\t\t\t\t\tvalidation_data=val_ds,\n",
    "\t\t\t\t\tepochs=5,\n",
    "\t\t\t\t\tverbose=1)"
   ]
  },
  {
   "cell_type": "code",
   "execution_count": null,
   "id": "f23de7f5",
   "metadata": {},
   "outputs": [],
   "source": [
    "hist_df = pd.DataFrame(history.history)\n",
    "hist_df.head()"
   ]
  },
  {
   "cell_type": "code",
   "execution_count": null,
   "id": "3dfbc268",
   "metadata": {},
   "outputs": [],
   "source": [
    "hist_df['loss'].plot()\n",
    "hist_df['val_loss'].plot()\n",
    "plt.title('Loss v/s Validation Loss')\n",
    "plt.legend()\n",
    "plt.show()"
   ]
  },
  {
   "cell_type": "code",
   "execution_count": null,
   "id": "b0966cfe",
   "metadata": {},
   "outputs": [],
   "source": [
    "hist_df['auc'].plot()\n",
    "hist_df['val_auc'].plot()\n",
    "plt.title('AUC v/s Validation AUC')\n",
    "plt.legend()\n",
    "plt.show()"
   ]
  },
  {
   "cell_type": "code",
   "execution_count": null,
   "id": "ae56df47",
   "metadata": {},
   "outputs": [],
   "source": []
  }
 ],
 "metadata": {
  "kernelspec": {
   "display_name": "Python 3 (ipykernel)",
   "language": "python",
   "name": "python3"
  },
  "language_info": {
   "codemirror_mode": {
    "name": "ipython",
    "version": 3
   },
   "file_extension": ".py",
   "mimetype": "text/x-python",
   "name": "python",
   "nbconvert_exporter": "python",
   "pygments_lexer": "ipython3",
   "version": "3.9.5"
  }
 },
 "nbformat": 4,
 "nbformat_minor": 5
}
